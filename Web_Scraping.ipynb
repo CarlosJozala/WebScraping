{
  "nbformat": 4,
  "nbformat_minor": 0,
  "metadata": {
    "colab": {
      "name": "Web Scraping.ipynb",
      "provenance": [],
      "authorship_tag": "ABX9TyOk2Yhdr+MmGBM5TTIEsjQJ",
      "include_colab_link": true
    },
    "kernelspec": {
      "name": "python3",
      "display_name": "Python 3"
    },
    "language_info": {
      "name": "python"
    }
  },
  "cells": [
    {
      "cell_type": "markdown",
      "metadata": {
        "id": "view-in-github",
        "colab_type": "text"
      },
      "source": [
        "<a href=\"https://colab.research.google.com/github/CarlosJozala/WebScraping/blob/main/Web_Scraping.ipynb\" target=\"_parent\"><img src=\"https://colab.research.google.com/assets/colab-badge.svg\" alt=\"Open In Colab\"/></a>"
      ]
    },
    {
      "cell_type": "markdown",
      "source": [
        "**Web Scraping | Alura**"
      ],
      "metadata": {
        "id": "nIn93fBpfWhP"
      }
    },
    {
      "cell_type": "code",
      "execution_count": 3,
      "metadata": {
        "colab": {
          "base_uri": "https://localhost:8080/"
        },
        "id": "0tzI-BaC4r79",
        "outputId": "cc611e93-3c5a-4db9-8581-dced6f44f0f7"
      },
      "outputs": [
        {
          "output_type": "stream",
          "name": "stdout",
          "text": [
            "BeautifulSoup -> 4.6.3\n",
            "urllib -> 3.7\n",
            "pandas -> 1.3.5\n"
          ]
        }
      ],
      "source": [
        "import bs4\n",
        "import urllib.request as urllib_request\n",
        "import pandas\n",
        "\n",
        "print(\"BeautifulSoup ->\", bs4.__version__)\n",
        "print(\"urllib ->\", urllib_request.__version__)\n",
        "print(\"pandas ->\", pandas.__version__)"
      ]
    },
    {
      "cell_type": "code",
      "source": [
        "from urllib.request import urlopen\n",
        "from bs4 import BeautifulSoup\n",
        "\n",
        "url = 'https://alura-site-scraping.herokuapp.com/hello-world.php'\n",
        "\n",
        "response = urlopen(url)\n",
        "html = response.read()\n",
        "\n",
        "soup = BeautifulSoup(html, 'html.parser')\n",
        "soup"
      ],
      "metadata": {
        "colab": {
          "base_uri": "https://localhost:8080/"
        },
        "id": "GyE_puAocbQm",
        "outputId": "18f97033-b338-43d1-eed0-cb98c6754132"
      },
      "execution_count": 4,
      "outputs": [
        {
          "output_type": "execute_result",
          "data": {
            "text/plain": [
              "<!DOCTYPE html>\n",
              "\n",
              "<html lang=\"pt-br\">\n",
              "<head>\n",
              "<meta charset=\"utf-8\"/>\n",
              "<meta content=\"width=device-width, initial-scale=1, shrink-to-fit=no\" name=\"viewport\"/>\n",
              "<title>Alura Motors</title>\n",
              "<link crossorigin=\"anonymous\" href=\"https://maxcdn.bootstrapcdn.com/bootstrap/3.3.7/css/bootstrap.min.css\" integrity=\"sha384-BVYiiSIFeK1dGmJRAkycuHAHRg32OmUcww7on3RYdg4Va+PmSTsz/K68vbdEjh4u\" rel=\"stylesheet\"/>\n",
              "<link href=\"css/styles.css\" media=\"all\" rel=\"stylesheet\"/>\n",
              "<script src=\"https://code.jquery.com/jquery-1.12.4.js\"></script>\n",
              "<script crossorigin=\"anonymous\" integrity=\"sha384-Tc5IQib027qvyjSMfHjOMaLkfuWVxZxUPnCJA7l2mCWNIpG9mGCD8wGNIcPD7Txa\" src=\"https://maxcdn.bootstrapcdn.com/bootstrap/3.3.7/js/bootstrap.min.js\"></script>\n",
              "<script src=\"js/index.js\" type=\"text/javascript\"></script>\n",
              "</head>\n",
              "<body cz-shortcut-listen=\"true\">\n",
              "<noscript>You need to enable JavaScript to run this app.</noscript>\n",
              "<div id=\"root\">\n",
              "<header>\n",
              "<nav class=\"navbar navbar-inverse\" style=\"margin-bottom: 0;\">\n",
              "<div class=\"container\" style=\"margin-bottom: -20px;\">\n",
              "<div class=\"navbar\">\n",
              "<a class=\"navbar-brand\" href=\"./index.php\" title=\"Alura Motors\">\n",
              "<img alt=\"Alura\" class=\"d-inline-block align-top\" src=\"img/alura-logo.svg\"/>Motors\n",
              "                        </a>\n",
              "<ul class=\"nav navbar-nav\" style=\"margin-top: 35px;\">\n",
              "<li><a href=\"./hello-world.php\">Hello World</a></li>\n",
              "<li><a href=\"./index.php\">Anúncios</a></li>\n",
              "</ul>\n",
              "</div>\n",
              "</div>\n",
              "</nav>\n",
              "</header>\n",
              "<div class=\"container\">\n",
              "<h1 class=\"sub-header\">Curso de Web Scraping</h1>\n",
              "<div class=\"row\">\n",
              "<div class=\"col-md-12\">\n",
              "<div class=\"container\" style=\"width: 100%;\">\n",
              "<h1 id=\"hello-world\">Hello World!!!</h1>\n",
              "<p class=\"definition\"><b>Web Scraping</b> é o termo utilizado para definir a prática de coletar automaticamente informações na Internet. Isto é feito, geralmente, por meio de programas que simulam a navegação humana na Web.</p>\n",
              "</div>\n",
              "</div>\n",
              "</div>\n",
              "</div>\n",
              "<footer id=\"footer\">\n",
              "<nav class=\"navbar navbar-inverse\">\n",
              "<div class=\"container\" style=\"margin-bottom: 10px;\">\n",
              "<div class=\"navbar\">\n",
              "<a class=\"navbar-brand\" href=\"./index.php\" title=\"Alura Motors\">\n",
              "<img alt=\"Alura\" class=\"d-inline-block align-top\" src=\"img/alura-logo.svg\"/>Motors\n",
              "\t\t\t\t\t\t</a>\n",
              "<p style=\"color: #fff; text-align: center; margin-top: 40px;\">Aplicação para treinamento de web scraping</p>\n",
              "</div>\n",
              "</div>\n",
              "</nav>\n",
              "</footer>\n",
              "</div>\n",
              "</body>\n",
              "</html>"
            ]
          },
          "metadata": {},
          "execution_count": 4
        }
      ]
    },
    {
      "cell_type": "code",
      "source": [
        "from urllib.request import urlopen\n",
        "from bs4 import BeautifulSoup\n",
        "\n",
        "url = 'https://alura-site-scraping.herokuapp.com/hello-world.php'\n",
        "\n",
        "response = urlopen(url)\n",
        "html = response.read()\n",
        "\n",
        "soup = BeautifulSoup(html, 'html.parser')\n",
        "print(soup.find('h1', id=\"hello-world\").get_text())\n",
        "print(soup.find('p'))"
      ],
      "metadata": {
        "colab": {
          "base_uri": "https://localhost:8080/"
        },
        "id": "OnyZA74dfGIo",
        "outputId": "81e18e7d-80df-4ef7-c12c-23387541eca7"
      },
      "execution_count": 6,
      "outputs": [
        {
          "output_type": "stream",
          "name": "stdout",
          "text": [
            "Hello World!!!\n",
            "<p class=\"definition\"><b>Web Scraping</b> é o termo utilizado para definir a prática de coletar automaticamente informações na Internet. Isto é feito, geralmente, por meio de programas que simulam a navegação humana na Web.</p>\n"
          ]
        }
      ]
    }
  ]
}